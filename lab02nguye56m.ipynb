{
 "cells": [
  {
   "cell_type": "markdown",
   "metadata": {},
   "source": [
    "Marie Nguyen \n",
    "\n",
    "<center>\n",
    "\n",
    "### Lab 02\n",
    "due 11:55 pm on Thursday, October 12 2023.October, 2021\n",
    "\n",
    "<center>"
   ]
  },
  {
   "cell_type": "code",
   "execution_count": null,
   "metadata": {},
   "outputs": [
    {
     "ename": "",
     "evalue": "",
     "output_type": "error",
     "traceback": [
      "\u001b[1;31mRunning cells with '/usr/bin/python3' requires the ipykernel package.\n",
      "\u001b[1;31mRun the following command to install 'ipykernel' into the Python environment. \n",
      "\u001b[1;31mCommand: '/usr/bin/python3 -m pip install ipykernel -U --user --force-reinstall'"
     ]
    }
   ],
   "source": [
    "# Loading packages\n",
    "import string\n",
    "import xml.etree.ElementTree as ET"
   ]
  },
  {
   "cell_type": "markdown",
   "metadata": {},
   "source": [
    "##### Tasks:\n",
    "Develop a search engine that allows to retrieve relavent documents in response to Boolean queries. The tokenizer should index the headline and text sections of each document. \n",
    "\n",
    "1. Modify code for lab 1 so that it:\n",
    "\n",
    "a. parses only the headline and text sections of each document.\n",
    "\n",
    "b. can run with stopping and/or stemming either on or off"
   ]
  },
  {
   "cell_type": "code",
   "execution_count": 2,
   "metadata": {},
   "outputs": [
    {
     "ename": "NameError",
     "evalue": "name 'root' is not defined",
     "output_type": "error",
     "traceback": [
      "\u001b[0;31m---------------------------------------------------------------------------\u001b[0m",
      "\u001b[0;31mNameError\u001b[0m                                 Traceback (most recent call last)",
      "\u001b[1;32m/Users/marienguyen/Downloads/COURSES/FALL 2023/Text Technology/Lab 02/lab02nguye56m.ipynb Cell 4\u001b[0m line \u001b[0;36m2\n\u001b[1;32m     <a href='vscode-notebook-cell:/Users/marienguyen/Downloads/COURSES/FALL%202023/Text%20Technology/Lab%2002/lab02nguye56m.ipynb#W3sZmlsZQ%3D%3D?line=22'>23</a>\u001b[0m texts \u001b[39m=\u001b[39m []\n\u001b[1;32m     <a href='vscode-notebook-cell:/Users/marienguyen/Downloads/COURSES/FALL%202023/Text%20Technology/Lab%2002/lab02nguye56m.ipynb#W3sZmlsZQ%3D%3D?line=24'>25</a>\u001b[0m \u001b[39m# Loop through each <DOC> element\u001b[39;00m\n\u001b[0;32m---> <a href='vscode-notebook-cell:/Users/marienguyen/Downloads/COURSES/FALL%202023/Text%20Technology/Lab%2002/lab02nguye56m.ipynb#W3sZmlsZQ%3D%3D?line=25'>26</a>\u001b[0m \u001b[39mfor\u001b[39;00m doc \u001b[39min\u001b[39;00m root\u001b[39m.\u001b[39mfindall(\u001b[39m'\u001b[39m\u001b[39mDOC\u001b[39m\u001b[39m'\u001b[39m):\n\u001b[1;32m     <a href='vscode-notebook-cell:/Users/marienguyen/Downloads/COURSES/FALL%202023/Text%20Technology/Lab%2002/lab02nguye56m.ipynb#W3sZmlsZQ%3D%3D?line=26'>27</a>\u001b[0m     \u001b[39m# Extract the <HEADLINE> and <TEXT> elements\u001b[39;00m\n\u001b[1;32m     <a href='vscode-notebook-cell:/Users/marienguyen/Downloads/COURSES/FALL%202023/Text%20Technology/Lab%2002/lab02nguye56m.ipynb#W3sZmlsZQ%3D%3D?line=27'>28</a>\u001b[0m     headline_element \u001b[39m=\u001b[39m doc\u001b[39m.\u001b[39mfind(\u001b[39m'\u001b[39m\u001b[39mHEADLINE\u001b[39m\u001b[39m'\u001b[39m)\n\u001b[1;32m     <a href='vscode-notebook-cell:/Users/marienguyen/Downloads/COURSES/FALL%202023/Text%20Technology/Lab%2002/lab02nguye56m.ipynb#W3sZmlsZQ%3D%3D?line=28'>29</a>\u001b[0m     text_element \u001b[39m=\u001b[39m doc\u001b[39m.\u001b[39mfind(\u001b[39m'\u001b[39m\u001b[39mTEXT\u001b[39m\u001b[39m'\u001b[39m)\n",
      "\u001b[0;31mNameError\u001b[0m: name 'root' is not defined"
     ]
    }
   ],
   "source": [
    "# Define a function to parse the <headline> and <text> sections of a given input document;  \n",
    "\n",
    "# def parsing(input):\n",
    "#     with open(input, \"r\") as input_file:\n",
    "#         for line in input_file:\n",
    "#             line = line.lower()\n",
    "#             punctTable = str.maketrans(\"\",\"\",string.punctuation)\n",
    "#             line = line.translate(punctTable)\n",
    "\n",
    "#     # Close the files\n",
    "#     input_file.close()\n",
    "    \n",
    "def parse_document(input):\n",
    "    # Parameter: input document \n",
    "    # Return: Lists of headlines and texts \n",
    "    # Use ElementTree module to read the XML file \n",
    "\n",
    "    tree = ET.parse(input) \n",
    "    root = tree.getroot()\n",
    "\n",
    "    # Initialize empty lists for headlines and texts\n",
    "headlines = []\n",
    "texts = []\n",
    "\n",
    "# Loop through each <DOC> element\n",
    "for doc in root.findall('DOC'):\n",
    "    # Extract the <HEADLINE> and <TEXT> elements\n",
    "    headline_element = doc.find('HEADLINE')\n",
    "    text_element = doc.find('TEXT')\n",
    "    \n",
    "    # Check if the elements exist before adding to the lists\n",
    "    if headline_element is not None and text_element is not None:\n",
    "        headline = headline_element.text.strip() if headline_element.text else \"\"\n",
    "        text = text_element.text.strip() if text_element.text else \"\"\n",
    "        \n",
    "        # Apply stopping (removing stopwords) if desired\n",
    "        if apply_stopping:\n",
    "            words = headline.split() + text.split()\n",
    "            words = [word for word in words if word.lower() not in stop_words]\n",
    "            headline = \" \".join(words)\n",
    "            text = \" \".join(words)\n",
    "        \n",
    "        # Apply stemming if desired\n",
    "        if apply_stemming:\n",
    "            words = headline.split() + text.split()\n",
    "            words = [stemmer.stem(word) for word in words]\n",
    "            headline = \" \".join(words)\n",
    "            text = \" \".join(words)\n",
    "        \n",
    "        headlines.append(headline)\n",
    "        texts.append(text)\n",
    "\n",
    "# Set the options for stopping and stemming\n",
    "apply_stopping = True  # Set to True to apply stopping\n",
    "apply_stemming = True  # Set to True to apply stemming\n",
    "\n",
    "\n",
    "parse_document(\"trec.sample.xml\")"
   ]
  }
 ],
 "metadata": {
  "kernelspec": {
   "display_name": "Python 3",
   "language": "python",
   "name": "python3"
  },
  "language_info": {
   "codemirror_mode": {
    "name": "ipython",
    "version": 3
   },
   "file_extension": ".py",
   "mimetype": "text/x-python",
   "name": "python",
   "nbconvert_exporter": "python",
   "pygments_lexer": "ipython3",
   "version": "3.9.1"
  },
  "orig_nbformat": 4
 },
 "nbformat": 4,
 "nbformat_minor": 2
}
